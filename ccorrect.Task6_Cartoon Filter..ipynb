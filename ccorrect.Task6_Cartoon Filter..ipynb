{
 "cells": [
  {
   "cell_type": "markdown",
   "metadata": {},
   "source": [
    "# ASSIGNMENT: Cartoon Face Mask\n",
    "## This assignment tests your ability to apply face recognition, image masks, image thresholding, video capturing and saving video feed into a video file concepts."
   ]
  },
  {
   "cell_type": "markdown",
   "metadata": {},
   "source": [
    "## TASK: Cartoonify faces in video feed from live webcam\n",
    "\n",
    "### Steps\n",
    "- 1. **Capture video** feed from webcam\n",
    "- 2. **Recognize faces** in the video\n",
    "- 3. **Replace/Mask the face** region with your favorite cartoon character\n",
    "- 4. **Save the video** feed into a video file\n",
    "- 5. Submit the following files\n",
    "    - Notebook (.ipynb)\n",
    "    - Video (.avi/.mp4)"
   ]
  },
  {
   "cell_type": "code",
   "execution_count": 1,
   "metadata": {},
   "outputs": [],
   "source": [
    "\n",
    "import cv2\n",
    "import os\n",
    "\n",
    "# Set up paths for Haar Cascade XML files\n",
    "cascPathface = \"/Users/bishakha/Downloads/haarcascade_frontalface_alt2.xml\"\n",
    "cascPatheyes = \"/Users/bishakha/Downloads/haarcascade_eye_tree_eyeglasses.xml\"\n",
    "\n",
    "# Load Haar Cascade classifiers\n",
    "faceCascade = cv2.CascadeClassifier(cascPathface)\n",
    "eyeCascade = cv2.CascadeClassifier(cascPatheyes)"
   ]
  },
  {
   "cell_type": "code",
   "execution_count": 3,
   "metadata": {},
   "outputs": [],
   "source": [
    "import numpy as np"
   ]
  },
  {
   "cell_type": "code",
   "execution_count": 5,
   "metadata": {},
   "outputs": [],
   "source": [
    "\n",
    "video_capture = cv2.VideoCapture(0)\n",
    "frame_width = int(video_capture.get(cv2.CAP_PROP_FRAME_WIDTH))\n",
    "frame_height = int(video_capture.get(cv2.CAP_PROP_FRAME_HEIGHT))\n",
    "fps = video_capture.get(cv2.CAP_PROP_FPS)\n",
    "if fps == 0:\n",
    "    fps = 60\n",
    "fourcc = cv2.VideoWriter_fourcc(*'mp4v')\n",
    "out = cv2.VideoWriter('output_video_masked.mp4', fourcc, fps, (frame_width, frame_height))       "
   ]
  },
  {
   "cell_type": "code",
   "execution_count": 7,
   "metadata": {},
   "outputs": [
    {
     "name": "stderr",
     "output_type": "stream",
     "text": [
      "2025-03-28 02:31:47.032 python[37462:3180070] +[IMKClient subclass]: chose IMKClient_Modern\n",
      "2025-03-28 02:31:47.032 python[37462:3180070] +[IMKInputSession subclass]: chose IMKInputSession_Modern\n"
     ]
    }
   ],
   "source": [
    "# Load your cartoon image with transparency preserved\n",
    "cartoon = cv2.imread(\"cute.png\", cv2.IMREAD_UNCHANGED)\n",
    "if cartoon is None:\n",
    "    raise FileNotFoundError(\"Could not find 'cute.png'. Ensure it is in the working directory.\")\n",
    "\n",
    "# Scale factor to increase the size of the cartoon overlay relative to the detected face\n",
    "scale_factor = 1.26\n",
    "\n",
    "while True:\n",
    "    ret, frame = video_capture.read()\n",
    "    if not ret:\n",
    "        print(\"Failed to grab frame\")\n",
    "        break\n",
    "\n",
    "    # Convert frame to grayscale for face detection\n",
    "    gray = cv2.cvtColor(frame, cv2.COLOR_BGR2GRAY)\n",
    "    faces = faceCascade.detectMultiScale(gray,\n",
    "                                         scaleFactor=1.1,\n",
    "                                         minNeighbors=5,\n",
    "                                         minSize=(60, 60),\n",
    "                                         flags=cv2.CASCADE_SCALE_IMAGE)\n",
    "\n",
    "    for (x, y, w, h) in faces:\n",
    "        # Calculate new dimensions for the cartoon overlay\n",
    "        new_w = int(w * scale_factor)\n",
    "        new_h = int(h * scale_factor)\n",
    "         # Shift the overlay so it remains centered on the detected face\n",
    "        x_offset = x - (new_w - w) // 2\n",
    "        y_offset = y - (new_h - h) // 2\n",
    "        \n",
    "        # Make sure the new region falls within the frame boundaries\n",
    "        x_offset = max(0, x_offset)\n",
    "        y_offset = max(0, y_offset)\n",
    "        if x_offset + new_w > frame_width:\n",
    "            new_w = frame_width - x_offset\n",
    "        if y_offset + new_h > frame_height:\n",
    "            new_h = frame_height - y_offset\n",
    "        \n",
    "        # Resize the cartoon image to the new dimensions\n",
    "        resized_cartoon = cv2.resize(cartoon, (new_w, new_h), interpolation=cv2.INTER_AREA)\n",
    "        \n",
    "        # Alpha blending if the resized cartoon has an alpha channel\n",
    "        if resized_cartoon.shape[2] == 4:\n",
    "            cartoon_color = resized_cartoon[:, :, :3].astype(float)\n",
    "            alpha_channel = resized_cartoon[:, :, 3].astype(float) / 255.0\n",
    "            alpha_mask = cv2.merge([alpha_channel, alpha_channel, alpha_channel])\n",
    "            \n",
    "            # Get the region of interest (ROI) from the frame\n",
    "            roi = frame[y_offset:y_offset+new_h, x_offset:x_offset+new_w].astype(float)\n",
    "            \n",
    "            # Blend the cartoon overlay with the ROI using per-pixel alpha blending\n",
    "            blended = (alpha_mask * cartoon_color) + ((1 - alpha_mask) * roi)\n",
    "            blended = np.clip(blended, 0, 255).astype(np.uint8)\n",
    "            frame[y_offset:y_offset+new_h, x_offset:x_offset+new_w] = blended\n",
    "        else:\n",
    "            # If no alpha channel, simply replace the face region with the resized cartoon\n",
    "            frame[y_offset:y_offset+new_h, x_offset:x_offset+new_w] = resized_cartoon\n",
    "\n",
    "    m_frame = cv2.flip(frame, 1)\n",
    "      # Mirror (flip horizontally) the processed frame before displaying and saving\n",
    "    out.write(m_frame)\n",
    "    cv2.imshow('Cartoon masked Video ', m_frame)\n",
    "    \n",
    "    if cv2.waitKey(1) & 0xFF == ord('q'):\n",
    "        break"
   ]
  },
  {
   "cell_type": "markdown",
   "metadata": {},
   "source": [
    "# Release Resources and Close Windows"
   ]
  },
  {
   "cell_type": "code",
   "execution_count": 10,
   "metadata": {},
   "outputs": [],
   "source": [
    "# Release the video capture and writer objects\n",
    "video_capture.release()\n",
    "out.release()\n",
    "\n",
    "# Close all OpenCV windows\n",
    "cv2.destroyAllWindows()\n"
   ]
  },
  {
   "cell_type": "code",
   "execution_count": null,
   "metadata": {},
   "outputs": [],
   "source": []
  }
 ],
 "metadata": {
  "kernelspec": {
   "display_name": "Python [conda env:base] *",
   "language": "python",
   "name": "conda-base-py"
  },
  "language_info": {
   "codemirror_mode": {
    "name": "ipython",
    "version": 3
   },
   "file_extension": ".py",
   "mimetype": "text/x-python",
   "name": "python",
   "nbconvert_exporter": "python",
   "pygments_lexer": "ipython3",
   "version": "3.12.9"
  }
 },
 "nbformat": 4,
 "nbformat_minor": 4
}
