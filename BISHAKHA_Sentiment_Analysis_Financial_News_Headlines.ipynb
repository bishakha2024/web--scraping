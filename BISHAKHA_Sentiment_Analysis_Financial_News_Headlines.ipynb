{
 "cells": [
  {
   "cell_type": "markdown",
   "metadata": {},
   "source": [
    "# Sentiment Analysis of Financial News Headlines\n",
    "## This task tests your ability to apply NLP techniques you've learnt to classify a news headline containing financial information into either one of the sentiments (Positive, Negative or Neutral)"
   ]
  },
  {
   "cell_type": "markdown",
   "metadata": {},
   "source": [
    "### Dataset:\n",
    "https://raw.githubusercontent.com/subashgandyer/datasets/main/financial_news_headlines_sentiment.csv"
   ]
  },
  {
   "cell_type": "markdown",
   "metadata": {},
   "source": [
    "## Max Marks without Bonus attempted: 80 points\n",
    "## Max Marks with Bonus: 100 points\n",
    "- ### Bonus: 20 points"
   ]
  },
  {
   "cell_type": "markdown",
   "metadata": {},
   "source": [
    "### Steps\n",
    "- 1. Download the dataset\n",
    "- 2. Load the dataset\n",
    "- 3. Explore the dataset (Exploratory Data Analysis)\n",
    "- 4. Clean the data\n",
    "- 5. Apply SMOTE for imbalanced data [Optional] --> Carries Bonus Marks\n",
    "- 6. Build a BoW model\n",
    "- 7. Build a Tf-Idf model\n",
    "- 8. Split train and test data\n",
    "- 9. Use one ML Classifying algorithm to classify the finanical news headline data\n",
    "- 10. Use another ML classifying algorithm to classify them\n",
    "- 11. Plot Confusion matrix "
   ]
  },
  {
   "cell_type": "markdown",
   "metadata": {},
   "source": [
    "## 1. Download the dataset [1 point]"
   ]
  },
  {
   "cell_type": "markdown",
   "metadata": {},
   "source": [
    "#already downloaded "
   ]
  },
  {
   "cell_type": "markdown",
   "metadata": {},
   "source": [
    "# important libraries"
   ]
  },
  {
   "cell_type": "code",
   "execution_count": 1,
   "metadata": {},
   "outputs": [],
   "source": [
    "import warnings\n",
    "warnings.filterwarnings(\"ignore\", category=FutureWarning)"
   ]
  },
  {
   "cell_type": "code",
   "execution_count": 3,
   "metadata": {},
   "outputs": [],
   "source": [
    "import pandas as pd\n",
    "import numpy as np\n",
    "import seaborn as sns\n",
    "import matplotlib.pyplot as plt\n",
    "from sklearn.feature_extraction.text import CountVectorizer, TfidfVectorizer\n",
    "from sklearn.model_selection import train_test_split\n",
    "from sklearn.preprocessing import LabelEncoder\n",
    "from sklearn.ensemble import RandomForestClassifier\n",
    "from sklearn.naive_bayes import MultinomialNB\n",
    "from sklearn.metrics import classification_report, confusion_matrix\n",
    "from imblearn.over_sampling import SMOTE"
   ]
  },
  {
   "cell_type": "markdown",
   "metadata": {},
   "source": [
    "## 2. Load the dataset [1 point]"
   ]
  },
  {
   "cell_type": "code",
   "execution_count": 6,
   "metadata": {},
   "outputs": [],
   "source": [
    "df = pd.read_csv(\"financial_news_headlines_sentiment.csv\", encoding=\"ISO-8859-1\")\n"
   ]
  },
  {
   "cell_type": "markdown",
   "metadata": {},
   "source": [
    "## 3. Explore the dataset [10 points]"
   ]
  },
  {
   "cell_type": "code",
   "execution_count": 9,
   "metadata": {},
   "outputs": [
    {
     "name": "stdout",
     "output_type": "stream",
     "text": [
      "    neutral  \\\n",
      "0   neutral   \n",
      "1  negative   \n",
      "2  positive   \n",
      "3  positive   \n",
      "4  positive   \n",
      "\n",
      "  According to Gran , the company has no plans to move all production to Russia , although that is where the company is growing .  \n",
      "0  Technopolis plans to develop in stages an area...                                                                               \n",
      "1  The international electronic industry company ...                                                                               \n",
      "2  With the new production plant the company woul...                                                                               \n",
      "3  According to the company 's updated strategy f...                                                                               \n",
      "4  FINANCING OF ASPOCOMP 'S GROWTH Aspocomp is ag...                                                                               \n",
      "<class 'pandas.core.frame.DataFrame'>\n",
      "RangeIndex: 4845 entries, 0 to 4844\n",
      "Data columns (total 2 columns):\n",
      " #   Column                                                                                                                           Non-Null Count  Dtype \n",
      "---  ------                                                                                                                           --------------  ----- \n",
      " 0   neutral                                                                                                                          4845 non-null   object\n",
      " 1   According to Gran , the company has no plans to move all production to Russia , although that is where the company is growing .  4845 non-null   object\n",
      "dtypes: object(2)\n",
      "memory usage: 75.8+ KB\n",
      "None\n"
     ]
    }
   ],
   "source": [
    "print(df.head())\n",
    "print(df.info())"
   ]
  },
  {
   "cell_type": "markdown",
   "metadata": {},
   "source": [
    "# The first column represents sentiment labels but is incorrectly named \"neutral\".The second column contains the news headlines but has a long, incorrect name."
   ]
  },
  {
   "cell_type": "code",
   "execution_count": 12,
   "metadata": {},
   "outputs": [],
   "source": [
    "# Rename columns to 'sentiment' and 'headline'\n",
    "df.columns = ['sentiment', 'headline']\n"
   ]
  },
  {
   "cell_type": "code",
   "execution_count": 14,
   "metadata": {},
   "outputs": [
    {
     "name": "stdout",
     "output_type": "stream",
     "text": [
      "  sentiment                                           headline\n",
      "0   neutral  Technopolis plans to develop in stages an area...\n",
      "1  negative  The international electronic industry company ...\n",
      "2  positive  With the new production plant the company woul...\n",
      "3  positive  According to the company 's updated strategy f...\n",
      "4  positive  FINANCING OF ASPOCOMP 'S GROWTH Aspocomp is ag...\n"
     ]
    }
   ],
   "source": [
    "# exploring it again to see changes \n",
    "print(df.head())"
   ]
  },
  {
   "cell_type": "code",
   "execution_count": 16,
   "metadata": {},
   "outputs": [
    {
     "name": "stdout",
     "output_type": "stream",
     "text": [
      "\n",
      "Value Counts of Sentiment Labels:\n",
      " sentiment\n",
      "neutral     2878\n",
      "positive    1363\n",
      "negative     604\n",
      "Name: count, dtype: int64\n"
     ]
    }
   ],
   "source": [
    "print(\"\\nValue Counts of Sentiment Labels:\\n\", df['sentiment'].value_counts())"
   ]
  },
  {
   "cell_type": "code",
   "execution_count": 18,
   "metadata": {},
   "outputs": [
    {
     "data": {
      "text/plain": [
       "(4845, 2)"
      ]
     },
     "execution_count": 18,
     "metadata": {},
     "output_type": "execute_result"
    }
   ],
   "source": [
    "df.shape"
   ]
  },
  {
   "cell_type": "markdown",
   "metadata": {},
   "source": [
    "## 4. Clean the data [5 points]"
   ]
  },
  {
   "cell_type": "code",
   "execution_count": 21,
   "metadata": {},
   "outputs": [],
   "source": [
    " # Remove nulls\n",
    "df.dropna(subset=['headline', 'sentiment'], inplace=True)\n",
    "# Convert to string\n",
    "df['headline'] = df['headline'].astype(str)  \n",
    "# Remove special characters\n",
    "df['headline'] = df['headline'].str.replace(\"[^a-zA-Z ]\", \"\", regex=True).str.lower()  \n"
   ]
  },
  {
   "cell_type": "code",
   "execution_count": 23,
   "metadata": {},
   "outputs": [],
   "source": [
    "encoder = LabelEncoder()\n",
    "df['sentiment'] = encoder.fit_transform(df['sentiment'])  # Encode labels (0,1,2)\n"
   ]
  },
  {
   "cell_type": "code",
   "execution_count": 25,
   "metadata": {},
   "outputs": [
    {
     "data": {
      "text/html": [
       "<div>\n",
       "<style scoped>\n",
       "    .dataframe tbody tr th:only-of-type {\n",
       "        vertical-align: middle;\n",
       "    }\n",
       "\n",
       "    .dataframe tbody tr th {\n",
       "        vertical-align: top;\n",
       "    }\n",
       "\n",
       "    .dataframe thead th {\n",
       "        text-align: right;\n",
       "    }\n",
       "</style>\n",
       "<table border=\"1\" class=\"dataframe\">\n",
       "  <thead>\n",
       "    <tr style=\"text-align: right;\">\n",
       "      <th></th>\n",
       "      <th>sentiment</th>\n",
       "      <th>headline</th>\n",
       "    </tr>\n",
       "  </thead>\n",
       "  <tbody>\n",
       "    <tr>\n",
       "      <th>0</th>\n",
       "      <td>1</td>\n",
       "      <td>technopolis plans to develop in stages an area...</td>\n",
       "    </tr>\n",
       "    <tr>\n",
       "      <th>1</th>\n",
       "      <td>0</td>\n",
       "      <td>the international electronic industry company ...</td>\n",
       "    </tr>\n",
       "    <tr>\n",
       "      <th>2</th>\n",
       "      <td>2</td>\n",
       "      <td>with the new production plant the company woul...</td>\n",
       "    </tr>\n",
       "    <tr>\n",
       "      <th>3</th>\n",
       "      <td>2</td>\n",
       "      <td>according to the company s updated strategy fo...</td>\n",
       "    </tr>\n",
       "    <tr>\n",
       "      <th>4</th>\n",
       "      <td>2</td>\n",
       "      <td>financing of aspocomp s growth aspocomp is agg...</td>\n",
       "    </tr>\n",
       "  </tbody>\n",
       "</table>\n",
       "</div>"
      ],
      "text/plain": [
       "   sentiment                                           headline\n",
       "0          1  technopolis plans to develop in stages an area...\n",
       "1          0  the international electronic industry company ...\n",
       "2          2  with the new production plant the company woul...\n",
       "3          2  according to the company s updated strategy fo...\n",
       "4          2  financing of aspocomp s growth aspocomp is agg..."
      ]
     },
     "execution_count": 25,
     "metadata": {},
     "output_type": "execute_result"
    }
   ],
   "source": [
    "df.head()"
   ]
  },
  {
   "cell_type": "markdown",
   "metadata": {},
   "source": [
    "## 5. SMOTE (Imbalanced dataset) [OPTIONAL] BONUS [20 points]\n",
    "Hint: Use **imblearn** library"
   ]
  },
  {
   "cell_type": "code",
   "execution_count": 28,
   "metadata": {},
   "outputs": [
    {
     "name": "stdout",
     "output_type": "stream",
     "text": [
      "\n",
      "Class distribution before SMOTE:\n",
      " sentiment\n",
      "1    2878\n",
      "2    1363\n",
      "0     604\n",
      "Name: count, dtype: int64\n",
      "\n",
      "Class distribution after SMOTE:\n",
      " sentiment\n",
      "1    2878\n",
      "0    2878\n",
      "2    2878\n",
      "Name: count, dtype: int64\n"
     ]
    }
   ],
   "source": [
    "# Extract the target labels and features\n",
    "X = df['headline']  # Features (headlines)\n",
    "y = df['sentiment']  # Target labels (sentiment)\n",
    "\n",
    "# Now we vectorize the cleaned text\n",
    "vectorizer = CountVectorizer()\n",
    "X_vectorized = vectorizer.fit_transform(X)  # Vectorizing the cleaned text \n",
    "\n",
    "# Convert sparse matrix to dense array for SMOTE\n",
    "X_dense = X_vectorized.toarray()\n",
    "\n",
    "# Check class imbalance before applying SMOTE\n",
    "print(\"\\nClass distribution before SMOTE:\\n\", pd.Series(y).value_counts())\n",
    "\n",
    "# Apply SMOTE to balance the dataset\n",
    "smote = SMOTE(random_state=42)\n",
    "X_resampled, y_resampled = smote.fit_resample(X_dense, y)\n",
    "\n",
    "# Check class distribution after applying SMOTE\n",
    "print(\"\\nClass distribution after SMOTE:\\n\", pd.Series(y_resampled).value_counts())\n",
    "\n"
   ]
  },
  {
   "cell_type": "markdown",
   "metadata": {},
   "source": [
    "## 6. BoW model [15 points]"
   ]
  },
  {
   "cell_type": "code",
   "execution_count": 31,
   "metadata": {},
   "outputs": [],
   "source": [
    "# BoW Model (Bag of Words)\n",
    "bow_vectorizer = CountVectorizer()\n",
    "X_bow = bow_vectorizer.fit_transform(df['headline'])  # BoW representation of the headlines\n"
   ]
  },
  {
   "cell_type": "markdown",
   "metadata": {},
   "source": [
    "## 7. Tf-idf model [15 points]"
   ]
  },
  {
   "cell_type": "code",
   "execution_count": 34,
   "metadata": {},
   "outputs": [],
   "source": [
    "# TF-IDF Model\n",
    "tfidf_vectorizer = TfidfVectorizer()\n",
    "X_tfidf = tfidf_vectorizer.fit_transform(df['headline'])  # TF-IDF representation of the headlines\n"
   ]
  },
  {
   "cell_type": "markdown",
   "metadata": {},
   "source": [
    "## 8. Split train test data [3 points]"
   ]
  },
  {
   "cell_type": "code",
   "execution_count": 37,
   "metadata": {},
   "outputs": [],
   "source": [
    "from sklearn.model_selection import train_test_split\n",
    "\n",
    "# Split Data\n",
    "X_train, X_test, y_train, y_test = train_test_split(X_tfidf, df['sentiment'], test_size=0.2, random_state=42)\n"
   ]
  },
  {
   "cell_type": "markdown",
   "metadata": {},
   "source": [
    "## 9. Classification Algorithm [10 points]\n",
    "- Train\n",
    "- Predict"
   ]
  },
  {
   "cell_type": "code",
   "execution_count": 40,
   "metadata": {},
   "outputs": [
    {
     "name": "stdout",
     "output_type": "stream",
     "text": [
      "Random Forest Classification Report:\n",
      "               precision    recall  f1-score   support\n",
      "\n",
      "           0       0.92      0.42      0.57       115\n",
      "           1       0.71      0.98      0.82       567\n",
      "           2       0.84      0.40      0.55       287\n",
      "\n",
      "    accuracy                           0.74       969\n",
      "   macro avg       0.82      0.60      0.65       969\n",
      "weighted avg       0.77      0.74      0.71       969\n",
      "\n"
     ]
    }
   ],
   "source": [
    "from sklearn.ensemble import RandomForestClassifier\n",
    "from sklearn.metrics import classification_report, confusion_matrix\n",
    "\n",
    "# (Random Forest)\n",
    "rf_model = RandomForestClassifier(random_state=42)\n",
    "rf_model.fit(X_train, y_train)  # Fit the model\n",
    "y_pred_rf = rf_model.predict(X_test)  # Predict on the test set\n",
    "\n",
    "# Random Forest classification report\n",
    "print(\"Random Forest Classification Report:\\n\", classification_report(y_test, y_pred_rf))\n"
   ]
  },
  {
   "cell_type": "markdown",
   "metadata": {},
   "source": [
    "## 10. Another Classification Algorithm [10 points]\n",
    "- Train\n",
    "- Predict"
   ]
  },
  {
   "cell_type": "code",
   "execution_count": 42,
   "metadata": {},
   "outputs": [
    {
     "name": "stdout",
     "output_type": "stream",
     "text": [
      "Naïve Bayes Classification Report:\n",
      "               precision    recall  f1-score   support\n",
      "\n",
      "           0       1.00      0.04      0.08       115\n",
      "           1       0.66      0.98      0.79       567\n",
      "           2       0.63      0.28      0.39       287\n",
      "\n",
      "    accuracy                           0.66       969\n",
      "   macro avg       0.76      0.43      0.42       969\n",
      "weighted avg       0.69      0.66      0.59       969\n",
      "\n"
     ]
    }
   ],
   "source": [
    "from sklearn.naive_bayes import MultinomialNB\n",
    "\n",
    "# (Naïve Bayes)\n",
    "nb_model = MultinomialNB()\n",
    "nb_model.fit(X_train, y_train)  # Fit the model\n",
    "y_pred_nb = nb_model.predict(X_test)  # Predict on the test set\n",
    "\n",
    "# Naïve Bayes classification report\n",
    "print(\"Naïve Bayes Classification Report:\\n\", classification_report(y_test, y_pred_nb))\n"
   ]
  },
  {
   "cell_type": "markdown",
   "metadata": {},
   "source": [
    "## 11. Confusion Matrixes for two classification algorithms and two feature extractor methods [10 points]"
   ]
  },
  {
   "cell_type": "code",
   "execution_count": 46,
   "metadata": {},
   "outputs": [
    {
     "data": {
      "image/png": "[encoded data removed]",
      "text/plain": [
       "<Figure size 1200x500 with 4 Axes>"
      ]
     },
     "metadata": {},
     "output_type": "display_data"
    }
   ],
   "source": [
    "import seaborn as sns\n",
    "import matplotlib.pyplot as plt\n",
    "\n",
    "# Plot Confusion Matrix\n",
    "fig, ax = plt.subplots(1, 2, figsize=(12, 5))\n",
    "\n",
    "# Random Forest Confusion Matrix\n",
    "sns.heatmap(confusion_matrix(y_test, y_pred_rf), annot=True, fmt=\"d\", ax=ax[0], cmap='Blues')\n",
    "ax[0].set_title(\"Random Forest Confusion Matrix\")\n",
    "\n",
    "# Naïve Bayes Confusion Matrix\n",
    "sns.heatmap(confusion_matrix(y_test, y_pred_nb), annot=True, fmt=\"d\", ax=ax[1], cmap='Reds')\n",
    "ax[1].set_title(\"Naïve Bayes Confusion Matrix\")\n",
    "\n",
    "plt.show()\n"
   ]
  },
  {
   "cell_type": "markdown",
   "metadata": {},
   "source": [
    "# For this problem, Random Forest is a better choice as it handles the classification of all classes more effectively, especially considering the class imbalance and performance across multiple categories"
   ]
  }
 ],
 "metadata": {
  "kernelspec": {
   "display_name": "Python [conda env:base] *",
   "language": "python",
   "name": "conda-base-py"
  },
  "language_info": {
   "codemirror_mode": {
    "name": "ipython",
    "version": 3
   },
   "file_extension": ".py",
   "mimetype": "text/x-python",
   "name": "python",
   "nbconvert_exporter": "python",
   "pygments_lexer": "ipython3",
   "version": "3.12.9"
  }
 },
 "nbformat": 4,
 "nbformat_minor": 4
}
